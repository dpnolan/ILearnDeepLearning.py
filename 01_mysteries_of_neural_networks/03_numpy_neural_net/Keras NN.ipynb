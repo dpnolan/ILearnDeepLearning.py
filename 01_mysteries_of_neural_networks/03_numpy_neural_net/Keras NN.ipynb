{
 "cells": [
  {
   "cell_type": "markdown",
   "metadata": {},
   "source": [
    "# Keras NN example"
   ]
  },
  {
   "cell_type": "code",
   "execution_count": 2,
   "metadata": {},
   "outputs": [],
   "source": [
    "import numpy as np"
   ]
  },
  {
   "cell_type": "code",
   "execution_count": 3,
   "metadata": {},
   "outputs": [],
   "source": [
    "import pandas as pd"
   ]
  },
  {
   "cell_type": "code",
   "execution_count": 4,
   "metadata": {},
   "outputs": [
    {
     "name": "stderr",
     "output_type": "stream",
     "text": [
      "Using TensorFlow backend.\n"
     ]
    }
   ],
   "source": [
    "from sklearn.datasets import make_moons\n",
    "from sklearn.model_selection import train_test_split\n",
    "\n",
    "import seaborn as sns\n",
    "import matplotlib.pyplot as plt\n",
    "from matplotlib import cm\n",
    "from mpl_toolkits.mplot3d import Axes3D\n",
    "sns.set_style(\"whitegrid\")\n",
    "\n",
    "import keras\n",
    "from keras.models import Sequential\n",
    "from keras.layers import Dense\n",
    "from keras.utils import np_utils\n",
    "from keras import regularizers\n",
    "\n",
    "import sklearn.metrics"
   ]
  },
  {
   "cell_type": "code",
   "execution_count": 5,
   "metadata": {},
   "outputs": [
    {
     "data": {
      "text/plain": [
       "'C:\\\\Users\\\\Peter\\\\Documents\\\\code\\\\nn\\\\ILearnDeepLearning.py\\\\01_mysteries_of_neural_networks\\\\03_numpy_neural_net'"
      ]
     },
     "execution_count": 5,
     "metadata": {},
     "output_type": "execute_result"
    }
   ],
   "source": [
    "import os\n",
    "%pwd"
   ]
  },
  {
   "cell_type": "code",
   "execution_count": 6,
   "metadata": {},
   "outputs": [],
   "source": [
    "# number of samples in the data set\n",
    "N_SAMPLES = 10000\n",
    "# ratio between training and test sets\n",
    "TEST_SIZE = 0.1\n",
    "# number of iterations of the model\n",
    "N_EPOCHS = 50"
   ]
  },
  {
   "cell_type": "code",
   "execution_count": 7,
   "metadata": {},
   "outputs": [],
   "source": [
    "# boundary of the graph\n",
    "GRID_X_START = -1.5\n",
    "GRID_X_END = 1.5\n",
    "GRID_Y_START = -1.5\n",
    "GRID_Y_END = 1.5\n",
    "# output directory (the folder must be created on the drive)\n",
    "OUTPUT_DIR = \"./\""
   ]
  },
  {
   "cell_type": "code",
   "execution_count": 65,
   "metadata": {
    "scrolled": true
   },
   "outputs": [],
   "source": [
    "INPUT_DATA=pd.read_csv('y1.csv',index_col=0)"
   ]
  },
  {
   "cell_type": "code",
   "execution_count": 66,
   "metadata": {},
   "outputs": [],
   "source": [
    "X=INPUT_DATA['X1']"
   ]
  },
  {
   "cell_type": "code",
   "execution_count": 67,
   "metadata": {},
   "outputs": [],
   "source": [
    "y=INPUT_DATA['Y']"
   ]
  },
  {
   "cell_type": "code",
   "execution_count": 68,
   "metadata": {},
   "outputs": [],
   "source": [
    "X_train, X_test, y_train, y_test = train_test_split(X, y, test_size=TEST_SIZE, random_state=42)"
   ]
  },
  {
   "cell_type": "code",
   "execution_count": 69,
   "metadata": {},
   "outputs": [
    {
     "name": "stdout",
     "output_type": "stream",
     "text": [
      "200,009,923.363842\n"
     ]
    }
   ],
   "source": [
    "totes=print(\"{:,f}\".format(sum(y)))"
   ]
  },
  {
   "cell_type": "code",
   "execution_count": 70,
   "metadata": {},
   "outputs": [],
   "source": [
    "totes=sum(y)"
   ]
  },
  {
   "cell_type": "code",
   "execution_count": 71,
   "metadata": {},
   "outputs": [
    {
     "data": {
      "text/plain": [
       "6252    6252\n",
       "4684    4684\n",
       "1731    1731\n",
       "4742    4742\n",
       "4521    4521\n",
       "6340    6340\n",
       "576      576\n",
       "5202    5202\n",
       "6363    6363\n",
       "439      439\n",
       "2750    2750\n",
       "7487    7487\n",
       "5272    5272\n",
       "5653    5653\n",
       "3999    3999\n",
       "6033    6033\n",
       "582      582\n",
       "9930    9930\n",
       "7051    7051\n",
       "8158    8158\n",
       "9896    9896\n",
       "2249    2249\n",
       "4640    4640\n",
       "9485    9485\n",
       "4947    4947\n",
       "9920    9920\n",
       "1963    1963\n",
       "8243    8243\n",
       "6590    6590\n",
       "8847    8847\n",
       "        ... \n",
       "9615    9615\n",
       "9217    9217\n",
       "1672    1672\n",
       "2358    2358\n",
       "8467    8467\n",
       "274      274\n",
       "2473    2473\n",
       "5489    5489\n",
       "4771    4771\n",
       "2107    2107\n",
       "7500    7500\n",
       "4414    4414\n",
       "8138    8138\n",
       "8660    8660\n",
       "8239    8239\n",
       "2417    2417\n",
       "8771    8771\n",
       "2236    2236\n",
       "3767    3767\n",
       "9791    9791\n",
       "9989    9989\n",
       "9965    9965\n",
       "7323    7323\n",
       "1383    1383\n",
       "3101    3101\n",
       "3921    3921\n",
       "6685    6685\n",
       "3194    3194\n",
       "1941    1941\n",
       "7713    7713\n",
       "Name: X1, Length: 1000, dtype: int64"
      ]
     },
     "execution_count": 71,
     "metadata": {},
     "output_type": "execute_result"
    }
   ],
   "source": [
    "X_test"
   ]
  },
  {
   "cell_type": "code",
   "execution_count": 72,
   "metadata": {},
   "outputs": [
    {
     "data": {
      "text/plain": [
       "6252    25011.087391\n",
       "4684    18737.523788\n",
       "1731     6926.783512\n",
       "4742    18972.062987\n",
       "4521    18085.885740\n",
       "6340    25363.716180\n",
       "576      2306.442401\n",
       "5202    20810.821740\n",
       "6363    25455.302315\n",
       "439      1758.825611\n",
       "2750    11003.078397\n",
       "7487    29951.472544\n",
       "5272    21089.778822\n",
       "5653    22615.584452\n",
       "3999    16000.493504\n",
       "6033    24132.571702\n",
       "582      2331.472307\n",
       "9930    39722.852160\n",
       "7051    28205.708743\n",
       "8158    32635.191432\n",
       "9896    39585.412278\n",
       "2249     9000.841604\n",
       "4640    18562.683323\n",
       "9485    37942.968433\n",
       "4947    19790.455968\n",
       "9920    39682.200677\n",
       "1963     7854.799590\n",
       "8243    32974.798406\n",
       "6590    26362.322198\n",
       "8847    35390.316159\n",
       "            ...     \n",
       "9615    38462.093878\n",
       "9217    36871.532923\n",
       "1672     6691.241149\n",
       "2358     9433.989385\n",
       "8467    33873.435441\n",
       "274      1099.227244\n",
       "2473     9895.923623\n",
       "5489    21957.745063\n",
       "4771    19085.488938\n",
       "2107     8430.499377\n",
       "7500    30001.562333\n",
       "4414    17659.157861\n",
       "8138    32554.975738\n",
       "8660    34643.222236\n",
       "8239    32958.387463\n",
       "2417     9671.919826\n",
       "8771    35085.858766\n",
       "2236     8944.925085\n",
       "3767    15069.424315\n",
       "9791    39166.896303\n",
       "9989    39957.761224\n",
       "9965    39862.147360\n",
       "7323    29294.645455\n",
       "1383     5534.153131\n",
       "3101    12408.190606\n",
       "3921    15687.164874\n",
       "6685    26743.314006\n",
       "3194    12777.280314\n",
       "1941     7769.079959\n",
       "7713    30855.039288\n",
       "Name: Y, Length: 1000, dtype: float64"
      ]
     },
     "execution_count": 72,
     "metadata": {},
     "output_type": "execute_result"
    }
   ],
   "source": [
    "y_test"
   ]
  },
  {
   "cell_type": "code",
   "execution_count": 73,
   "metadata": {},
   "outputs": [],
   "source": [
    "# Building a model\n",
    "model = Sequential()\n",
    "model.add(Dense(25, input_dim=1,activation='relu'))\n",
    "model.add(Dense(50, activation='relu'))\n",
    "model.add(Dense(50, activation='relu'))\n",
    "model.add(Dense(25, activation='relu'))\n",
    "model.add(Dense(1, activation='sigmoid'))\n",
    "\n",
    "model.compile(loss='mean_squared_error', optimizer=\"sgd\", metrics=['accuracy'])\n",
    "# Training\n",
    "history = model.fit(X_train, y_train, epochs=200, verbose=0)"
   ]
  },
  {
   "cell_type": "code",
   "execution_count": 42,
   "metadata": {},
   "outputs": [],
   "source": [
    "# Building a model\n",
    "model2 = Sequential()\n",
    "model2.add(Dense(4, input_dim=1,activation='softmax'))\n",
    "model2.add(Dense(4, activation='softmax'))\n",
    "model2.add(Dense(1, activation='softmax'))\n",
    "\n",
    "model2.compile(loss='mean_squared_error', optimizer=\"sgd\", metrics=['mse'])\n",
    "# Training\n",
    "history = model2.fit(X_train, y_train, epochs=200, verbose=0)"
   ]
  },
  {
   "cell_type": "code",
   "execution_count": 16,
   "metadata": {},
   "outputs": [],
   "source": [
    "from sklearn.metrics import mean_squared_error, r2_score"
   ]
  },
  {
   "cell_type": "code",
   "execution_count": null,
   "metadata": {},
   "outputs": [],
   "source": []
  },
  {
   "cell_type": "code",
   "execution_count": 75,
   "metadata": {},
   "outputs": [
    {
     "name": "stdout",
     "output_type": "stream",
     "text": [
      "r2: -2.92 - Keras\n"
     ]
    }
   ],
   "source": [
    "Y_test_hat = model2.predict(X_test)\n",
    "r2_test = r2_score(y_test, Y_test_hat)\n",
    "mse= mean_squared_error(y_test, Y_test_hat)\n",
    "print(\"r2: {:.2f} - Keras\".format(r2_test))"
   ]
  },
  {
   "cell_type": "code",
   "execution_count": 76,
   "metadata": {},
   "outputs": [],
   "source": [
    "mse= mean_squared_error(y_test, Y_test_hat)"
   ]
  },
  {
   "cell_type": "code",
   "execution_count": 77,
   "metadata": {},
   "outputs": [
    {
     "name": "stdout",
     "output_type": "stream",
     "text": [
      "536,361,087.41\n"
     ]
    }
   ],
   "source": [
    "print(\"{:,.2f}\".format(mse))"
   ]
  },
  {
   "cell_type": "code",
   "execution_count": 92,
   "metadata": {},
   "outputs": [],
   "source": [
    "XR=np.array(X).reshape(-1,1)"
   ]
  },
  {
   "cell_type": "code",
   "execution_count": 95,
   "metadata": {},
   "outputs": [
    {
     "data": {
      "text/plain": [
       "array([[   0],\n",
       "       [   1],\n",
       "       [   2],\n",
       "       ...,\n",
       "       [9997],\n",
       "       [9998],\n",
       "       [9999]], dtype=int64)"
      ]
     },
     "execution_count": 95,
     "metadata": {},
     "output_type": "execute_result"
    }
   ],
   "source": [
    "XR"
   ]
  },
  {
   "cell_type": "code",
   "execution_count": 99,
   "metadata": {},
   "outputs": [],
   "source": [
    "yR=np.array(y).reshape(-1,1)"
   ]
  },
  {
   "cell_type": "code",
   "execution_count": 114,
   "metadata": {},
   "outputs": [
    {
     "data": {
      "text/plain": [
       "(10000,)"
      ]
     },
     "execution_count": 114,
     "metadata": {},
     "output_type": "execute_result"
    }
   ],
   "source": [
    "y.shape"
   ]
  },
  {
   "cell_type": "code",
   "execution_count": 115,
   "metadata": {},
   "outputs": [
    {
     "data": {
      "text/plain": [
       "(10000, 1)"
      ]
     },
     "execution_count": 115,
     "metadata": {},
     "output_type": "execute_result"
    }
   ],
   "source": [
    "yR.shape"
   ]
  },
  {
   "cell_type": "code",
   "execution_count": 116,
   "metadata": {},
   "outputs": [
    {
     "data": {
      "text/plain": [
       "array([[3.77847789e+00],\n",
       "       [8.71557482e+00],\n",
       "       [1.22492644e+01],\n",
       "       ...,\n",
       "       [3.99920496e+04],\n",
       "       [3.99946794e+04],\n",
       "       [3.99998256e+04]])"
      ]
     },
     "execution_count": 116,
     "metadata": {},
     "output_type": "execute_result"
    }
   ],
   "source": [
    "yR"
   ]
  },
  {
   "cell_type": "code",
   "execution_count": 101,
   "metadata": {},
   "outputs": [],
   "source": [
    "from sklearn import linear_model"
   ]
  },
  {
   "cell_type": "code",
   "execution_count": 102,
   "metadata": {},
   "outputs": [],
   "source": [
    "regr = linear_model.LinearRegression().fit(XR,yR)"
   ]
  },
  {
   "cell_type": "code",
   "execution_count": 104,
   "metadata": {},
   "outputs": [
    {
     "name": "stdout",
     "output_type": "stream",
     "text": [
      "Coefficients: \n",
      " [[3.99999928]]\n"
     ]
    }
   ],
   "source": [
    "# The coefficients\n",
    "print('Coefficients: \\n', regr.coef_)"
   ]
  },
  {
   "cell_type": "code",
   "execution_count": 130,
   "metadata": {},
   "outputs": [
    {
     "data": {
      "text/plain": [
       "0.9999999924807546"
      ]
     },
     "execution_count": 130,
     "metadata": {},
     "output_type": "execute_result"
    }
   ],
   "source": [
    "regr.score(XR,yR)"
   ]
  },
  {
   "cell_type": "code",
   "execution_count": 131,
   "metadata": {},
   "outputs": [
    {
     "data": {
      "text/plain": [
       "array([2.99592995])"
      ]
     },
     "execution_count": 131,
     "metadata": {},
     "output_type": "execute_result"
    }
   ],
   "source": [
    "regr.intercept_"
   ]
  },
  {
   "cell_type": "code",
   "execution_count": null,
   "metadata": {},
   "outputs": [],
   "source": []
  }
 ],
 "metadata": {
  "kernelspec": {
   "display_name": "tensorflow",
   "language": "python",
   "name": "tensorflow"
  },
  "language_info": {
   "codemirror_mode": {
    "name": "ipython",
    "version": 3
   },
   "file_extension": ".py",
   "mimetype": "text/x-python",
   "name": "python",
   "nbconvert_exporter": "python",
   "pygments_lexer": "ipython3",
   "version": "3.6.7"
  }
 },
 "nbformat": 4,
 "nbformat_minor": 2
}
